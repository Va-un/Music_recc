{
 "cells": [
  {
   "cell_type": "code",
   "execution_count": 1,
   "id": "e6b2b40a-74da-4c62-9f14-62c68239a2d1",
   "metadata": {},
   "outputs": [],
   "source": [
    "import streamlit as st\n",
    "import pandas as pd"
   ]
  },
  {
   "cell_type": "code",
   "execution_count": 2,
   "id": "789c820f-b8e2-4c2f-9251-4300bfb4777e",
   "metadata": {},
   "outputs": [
    {
     "data": {
      "text/html": [
       "<div>\n",
       "<style scoped>\n",
       "    .dataframe tbody tr th:only-of-type {\n",
       "        vertical-align: middle;\n",
       "    }\n",
       "\n",
       "    .dataframe tbody tr th {\n",
       "        vertical-align: top;\n",
       "    }\n",
       "\n",
       "    .dataframe thead th {\n",
       "        text-align: right;\n",
       "    }\n",
       "</style>\n",
       "<table border=\"1\" class=\"dataframe\">\n",
       "  <thead>\n",
       "    <tr style=\"text-align: right;\">\n",
       "      <th></th>\n",
       "      <th>song_title</th>\n",
       "      <th>id</th>\n",
       "      <th>clusters</th>\n",
       "    </tr>\n",
       "  </thead>\n",
       "  <tbody>\n",
       "    <tr>\n",
       "      <th>0</th>\n",
       "      <td>Price I Pay</td>\n",
       "      <td>0.702117</td>\n",
       "      <td>4</td>\n",
       "    </tr>\n",
       "    <tr>\n",
       "      <th>1</th>\n",
       "      <td>Never Again (Album Version)</td>\n",
       "      <td>0.628528</td>\n",
       "      <td>9</td>\n",
       "    </tr>\n",
       "    <tr>\n",
       "      <th>2</th>\n",
       "      <td>Earth Child (World)</td>\n",
       "      <td>0.306452</td>\n",
       "      <td>7</td>\n",
       "    </tr>\n",
       "    <tr>\n",
       "      <th>3</th>\n",
       "      <td>Master_ Faster_ Sweet Desaster</td>\n",
       "      <td>0.587198</td>\n",
       "      <td>9</td>\n",
       "    </tr>\n",
       "    <tr>\n",
       "      <th>4</th>\n",
       "      <td>Silent Night (Featuring Geoffrey Jones_ Terren...</td>\n",
       "      <td>0.779234</td>\n",
       "      <td>4</td>\n",
       "    </tr>\n",
       "    <tr>\n",
       "      <th>...</th>\n",
       "      <td>...</td>\n",
       "      <td>...</td>\n",
       "      <td>...</td>\n",
       "    </tr>\n",
       "    <tr>\n",
       "      <th>1996</th>\n",
       "      <td>Getting Closer</td>\n",
       "      <td>0.381552</td>\n",
       "      <td>1</td>\n",
       "    </tr>\n",
       "    <tr>\n",
       "      <th>1997</th>\n",
       "      <td>Tough Guy</td>\n",
       "      <td>0.911794</td>\n",
       "      <td>9</td>\n",
       "    </tr>\n",
       "    <tr>\n",
       "      <th>1998</th>\n",
       "      <td>Bubble Music</td>\n",
       "      <td>0.214718</td>\n",
       "      <td>8</td>\n",
       "    </tr>\n",
       "    <tr>\n",
       "      <th>1999</th>\n",
       "      <td>Flesh And Blood</td>\n",
       "      <td>0.356855</td>\n",
       "      <td>5</td>\n",
       "    </tr>\n",
       "    <tr>\n",
       "      <th>2000</th>\n",
       "      <td>Bury Me</td>\n",
       "      <td>0.215726</td>\n",
       "      <td>7</td>\n",
       "    </tr>\n",
       "  </tbody>\n",
       "</table>\n",
       "<p>2001 rows × 3 columns</p>\n",
       "</div>"
      ],
      "text/plain": [
       "                                             song_title        id  clusters\n",
       "0                                           Price I Pay  0.702117         4\n",
       "1                           Never Again (Album Version)  0.628528         9\n",
       "2                                   Earth Child (World)  0.306452         7\n",
       "3                        Master_ Faster_ Sweet Desaster  0.587198         9\n",
       "4     Silent Night (Featuring Geoffrey Jones_ Terren...  0.779234         4\n",
       "...                                                 ...       ...       ...\n",
       "1996                                     Getting Closer  0.381552         1\n",
       "1997                                          Tough Guy  0.911794         9\n",
       "1998                                       Bubble Music  0.214718         8\n",
       "1999                                    Flesh And Blood  0.356855         5\n",
       "2000                                            Bury Me  0.215726         7\n",
       "\n",
       "[2001 rows x 3 columns]"
      ]
     },
     "execution_count": 2,
     "metadata": {},
     "output_type": "execute_result"
    }
   ],
   "source": [
    "df = pd.read_csv(\"Recc.csv\",index_col = \"Unnamed: 0\")\n",
    "df"
   ]
  },
  {
   "cell_type": "code",
   "execution_count": 3,
   "id": "8bf8bc1a-7a79-4006-be41-7435e1d8bdff",
   "metadata": {},
   "outputs": [],
   "source": [
    "def similar(target_word):\n",
    "    # Find similar words within the DataFrame\n",
    "    similar_words = df[df['song_title'].str.contains(target_word, case=False, na=False)]\n",
    "    return similar_words.song_title.values"
   ]
  },
  {
   "cell_type": "code",
   "execution_count": 4,
   "id": "6ecaf515-c384-4425-b08e-a970a659da25",
   "metadata": {},
   "outputs": [],
   "source": [
    "def predictor(name,link = df):\n",
    "    getting_closer_id = link[link['song_title'] == name]['clusters']\n",
    "    val = getting_closer_id.values[0]\n",
    "    result = link[link['clusters'] == val]['song_title'].head(5)\n",
    "    return result"
   ]
  },
  {
   "cell_type": "code",
   "execution_count": null,
   "id": "4218f463-1635-486e-a24c-95cdc3a1e642",
   "metadata": {},
   "outputs": [],
   "source": []
  },
  {
   "cell_type": "code",
   "execution_count": 5,
   "id": "24a2e0bb-7d7a-4ec5-ae00-adb12c329c23",
   "metadata": {},
   "outputs": [
    {
     "name": "stderr",
     "output_type": "stream",
     "text": [
      "2023-11-02 18:13:54.374 \n",
      "  \u001b[33m\u001b[1mWarning:\u001b[0m to view this Streamlit app on a browser, run it with the following\n",
      "  command:\n",
      "\n",
      "    streamlit run D:\\programs\\Anaconda\\lib\\site-packages\\ipykernel_launcher.py [ARGUMENTS]\n"
     ]
    }
   ],
   "source": [
    "st.text('Enter Song name')\n",
    "val = st.text_input(\"name\")\n",
    "st.selectbox(\"Pick one\", val)"
   ]
  },
  {
   "cell_type": "code",
   "execution_count": 9,
   "id": "1cab75c9-a94a-485d-a3db-d52dc5c2d369",
   "metadata": {},
   "outputs": [],
   "source": [
    "def similar(target_word):\n",
    "    # Find similar words within the DataFrame\n",
    "    similar_words = df[df['song_title'].str.contains(target_word, case=False, na=False)]\n",
    "    return similar_words.song_title.values\n"
   ]
  },
  {
   "cell_type": "code",
   "execution_count": 15,
   "id": "e7d70cf7-edc1-4408-af65-6547169b3749",
   "metadata": {},
   "outputs": [
    {
     "data": {
      "text/plain": [
       "array(['b\"(Coffees For Closers)\"', 'Getting Closer'], dtype=object)"
      ]
     },
     "execution_count": 15,
     "metadata": {},
     "output_type": "execute_result"
    }
   ],
   "source": [
    "val = similar(\"closer\")\n",
    "val"
   ]
  }
 ],
 "metadata": {
  "kernelspec": {
   "display_name": "Bankai",
   "language": "python",
   "name": "bankai"
  },
  "language_info": {
   "codemirror_mode": {
    "name": "ipython",
    "version": 3
   },
   "file_extension": ".py",
   "mimetype": "text/x-python",
   "name": "python",
   "nbconvert_exporter": "python",
   "pygments_lexer": "ipython3",
   "version": "3.10.9"
  }
 },
 "nbformat": 4,
 "nbformat_minor": 5
}
